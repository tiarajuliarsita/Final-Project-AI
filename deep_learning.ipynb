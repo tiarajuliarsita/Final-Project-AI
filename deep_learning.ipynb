{
 "cells": [
  {
   "cell_type": "markdown",
   "id": "e9f9523b",
   "metadata": {},
   "source": [
    "# DEEP LEARNING "
   ]
  },
  {
   "cell_type": "markdown",
   "id": "31e0e0b3",
   "metadata": {},
   "source": [
    "memisahkan data menjadi 3 bagian :\n",
    "\n",
    "1. train data\n",
    "2. test data\n",
    "3. validation data"
   ]
  },
  {
   "cell_type": "markdown",
   "id": "ed0f094b",
   "metadata": {},
   "source": [
    "# memasukkan dataset"
   ]
  },
  {
   "cell_type": "code",
   "execution_count": 55,
   "id": "4839caca",
   "metadata": {},
   "outputs": [],
   "source": [
    "import pandas as pd\n",
    "import numpy as np\n",
    "import matplotlib.pyplot as plt\n",
    "import os\n",
    "import tensorflow as tf\n",
    "from sklearn.model_selection import train_test_split\n",
    "import shutil\n",
    "from tqdm.notebook import tqdm as tq\n",
    "from tensorflow.keras.preprocessing.image import ImageDataGenerator\n",
    "from tensorflow.keras import layers, Sequential\n",
    "from tensorflow.keras.models import Model\n",
    "from tensorflow.keras.layers import Conv2D, Activation, MaxPooling2D, Dropout, Flatten, Dense\n",
    "from tensorflow.keras.applications import MobileNetV2\n",
    "from tensorflow.keras import layers,Sequential\n",
    "from tensorflow.keras.models import Model\n",
    "# from efficientnet.tfkeras import EfficientNetB1"
   ]
  },
  {
   "cell_type": "markdown",
   "id": "fb6fd383",
   "metadata": {},
   "source": [
    "# memasukkan folder yang nantinya di jadikan ke dataset"
   ]
  },
  {
   "cell_type": "code",
   "execution_count": 2,
   "id": "d8aba297",
   "metadata": {},
   "outputs": [],
   "source": [
    "mypath = 'Toyota_car/'"
   ]
  },
  {
   "cell_type": "code",
   "execution_count": 4,
   "id": "1bb4b7df",
   "metadata": {},
   "outputs": [],
   "source": [
    "file_name = []\n",
    "tag = []\n",
    "full_path = []\n",
    "for path, subdirs, files in os.walk(mypath):\n",
    "    for name in files:\n",
    "        full_path.append(os.path.join(path, name).replace(\"\\\\\",\"/\"))\n",
    "        tag.append(path.split('/')[-1])\n",
    "        file_name.append(name)"
   ]
  },
  {
   "cell_type": "code",
   "execution_count": 7,
   "id": "75f8b5da",
   "metadata": {},
   "outputs": [
    {
     "data": {
      "text/plain": [
       "tag\n",
       "tag    496\n",
       "dtype: int64"
      ]
     },
     "execution_count": 7,
     "metadata": {},
     "output_type": "execute_result"
    }
   ],
   "source": [
    "df = pd.DataFrame({'path': full_path, 'file_name': file_name, 'tag':'tag'})\n",
    "df.groupby(['tag']).size()"
   ]
  },
  {
   "cell_type": "code",
   "execution_count": 10,
   "id": "c502b63d",
   "metadata": {},
   "outputs": [
    {
     "data": {
      "text/html": [
       "<div>\n",
       "<style scoped>\n",
       "    .dataframe tbody tr th:only-of-type {\n",
       "        vertical-align: middle;\n",
       "    }\n",
       "\n",
       "    .dataframe tbody tr th {\n",
       "        vertical-align: top;\n",
       "    }\n",
       "\n",
       "    .dataframe thead th {\n",
       "        text-align: right;\n",
       "    }\n",
       "</style>\n",
       "<table border=\"1\" class=\"dataframe\">\n",
       "  <thead>\n",
       "    <tr style=\"text-align: right;\">\n",
       "      <th></th>\n",
       "      <th>path</th>\n",
       "      <th>file_name</th>\n",
       "      <th>tag</th>\n",
       "    </tr>\n",
       "  </thead>\n",
       "  <tbody>\n",
       "    <tr>\n",
       "      <th>0</th>\n",
       "      <td>Toyota_car/Alpard/00b14b9ba43946d98735dc653dc8...</td>\n",
       "      <td>00b14b9ba43946d98735dc653dc8c78d_1200.jpg</td>\n",
       "      <td>tag</td>\n",
       "    </tr>\n",
       "    <tr>\n",
       "      <th>1</th>\n",
       "      <td>Toyota_car/Alpard/018353700_1663691568-IMG_202...</td>\n",
       "      <td>018353700_1663691568-IMG_20220819_101826.jpg</td>\n",
       "      <td>tag</td>\n",
       "    </tr>\n",
       "    <tr>\n",
       "      <th>2</th>\n",
       "      <td>Toyota_car/Alpard/054085600_1658721365-0000486...</td>\n",
       "      <td>054085600_1658721365-0000486053.jpg</td>\n",
       "      <td>tag</td>\n",
       "    </tr>\n",
       "    <tr>\n",
       "      <th>3</th>\n",
       "      <td>Toyota_car/Alpard/056586100_1668037395-3301959...</td>\n",
       "      <td>056586100_1668037395-330195992_1661236267772_1...</td>\n",
       "      <td>tag</td>\n",
       "    </tr>\n",
       "    <tr>\n",
       "      <th>4</th>\n",
       "      <td>Toyota_car/Alpard/0735da1e-d110-4f65-b04e-0622...</td>\n",
       "      <td>0735da1e-d110-4f65-b04e-06225a542d28.jpeg</td>\n",
       "      <td>tag</td>\n",
       "    </tr>\n",
       "    <tr>\n",
       "      <th>...</th>\n",
       "      <td>...</td>\n",
       "      <td>...</td>\n",
       "      <td>...</td>\n",
       "    </tr>\n",
       "    <tr>\n",
       "      <th>491</th>\n",
       "      <td>Toyota_car/Yaris/yaris-20-tahun-f174.jpg</td>\n",
       "      <td>yaris-20-tahun-f174.jpg</td>\n",
       "      <td>tag</td>\n",
       "    </tr>\n",
       "    <tr>\n",
       "      <th>492</th>\n",
       "      <td>Toyota_car/Yaris/yaris-exterior-right-front-th...</td>\n",
       "      <td>yaris-exterior-right-front-three-quarter.jpeg</td>\n",
       "      <td>tag</td>\n",
       "    </tr>\n",
       "    <tr>\n",
       "      <th>493</th>\n",
       "      <td>Toyota_car/Yaris/yaris-grs-1jpg-20211208111949...</td>\n",
       "      <td>yaris-grs-1jpg-20211208111949.jpg</td>\n",
       "      <td>tag</td>\n",
       "    </tr>\n",
       "    <tr>\n",
       "      <th>494</th>\n",
       "      <td>Toyota_car/Yaris/yaris_gs.jpg</td>\n",
       "      <td>yaris_gs.jpg</td>\n",
       "      <td>tag</td>\n",
       "    </tr>\n",
       "    <tr>\n",
       "      <th>495</th>\n",
       "      <td>Toyota_car/Yaris/yaris_trd.jpg</td>\n",
       "      <td>yaris_trd.jpg</td>\n",
       "      <td>tag</td>\n",
       "    </tr>\n",
       "  </tbody>\n",
       "</table>\n",
       "<p>496 rows × 3 columns</p>\n",
       "</div>"
      ],
      "text/plain": [
       "                                                  path  \\\n",
       "0    Toyota_car/Alpard/00b14b9ba43946d98735dc653dc8...   \n",
       "1    Toyota_car/Alpard/018353700_1663691568-IMG_202...   \n",
       "2    Toyota_car/Alpard/054085600_1658721365-0000486...   \n",
       "3    Toyota_car/Alpard/056586100_1668037395-3301959...   \n",
       "4    Toyota_car/Alpard/0735da1e-d110-4f65-b04e-0622...   \n",
       "..                                                 ...   \n",
       "491           Toyota_car/Yaris/yaris-20-tahun-f174.jpg   \n",
       "492  Toyota_car/Yaris/yaris-exterior-right-front-th...   \n",
       "493  Toyota_car/Yaris/yaris-grs-1jpg-20211208111949...   \n",
       "494                      Toyota_car/Yaris/yaris_gs.jpg   \n",
       "495                     Toyota_car/Yaris/yaris_trd.jpg   \n",
       "\n",
       "                                             file_name  tag  \n",
       "0            00b14b9ba43946d98735dc653dc8c78d_1200.jpg  tag  \n",
       "1         018353700_1663691568-IMG_20220819_101826.jpg  tag  \n",
       "2                  054085600_1658721365-0000486053.jpg  tag  \n",
       "3    056586100_1668037395-330195992_1661236267772_1...  tag  \n",
       "4            0735da1e-d110-4f65-b04e-06225a542d28.jpeg  tag  \n",
       "..                                                 ...  ...  \n",
       "491                            yaris-20-tahun-f174.jpg  tag  \n",
       "492      yaris-exterior-right-front-three-quarter.jpeg  tag  \n",
       "493                  yaris-grs-1jpg-20211208111949.jpg  tag  \n",
       "494                                       yaris_gs.jpg  tag  \n",
       "495                                      yaris_trd.jpg  tag  \n",
       "\n",
       "[496 rows x 3 columns]"
      ]
     },
     "execution_count": 10,
     "metadata": {},
     "output_type": "execute_result"
    }
   ],
   "source": [
    "df"
   ]
  },
  {
   "cell_type": "code",
   "execution_count": 11,
   "id": "f7ea6654",
   "metadata": {},
   "outputs": [
    {
     "data": {
      "text/html": [
       "<div>\n",
       "<style scoped>\n",
       "    .dataframe tbody tr th:only-of-type {\n",
       "        vertical-align: middle;\n",
       "    }\n",
       "\n",
       "    .dataframe tbody tr th {\n",
       "        vertical-align: top;\n",
       "    }\n",
       "\n",
       "    .dataframe thead th {\n",
       "        text-align: right;\n",
       "    }\n",
       "</style>\n",
       "<table border=\"1\" class=\"dataframe\">\n",
       "  <thead>\n",
       "    <tr style=\"text-align: right;\">\n",
       "      <th></th>\n",
       "      <th>path</th>\n",
       "      <th>file_name</th>\n",
       "      <th>tag</th>\n",
       "    </tr>\n",
       "  </thead>\n",
       "  <tbody>\n",
       "    <tr>\n",
       "      <th>0</th>\n",
       "      <td>Toyota_car/Alpard/00b14b9ba43946d98735dc653dc8...</td>\n",
       "      <td>00b14b9ba43946d98735dc653dc8c78d_1200.jpg</td>\n",
       "      <td>tag</td>\n",
       "    </tr>\n",
       "    <tr>\n",
       "      <th>1</th>\n",
       "      <td>Toyota_car/Alpard/018353700_1663691568-IMG_202...</td>\n",
       "      <td>018353700_1663691568-IMG_20220819_101826.jpg</td>\n",
       "      <td>tag</td>\n",
       "    </tr>\n",
       "    <tr>\n",
       "      <th>2</th>\n",
       "      <td>Toyota_car/Alpard/054085600_1658721365-0000486...</td>\n",
       "      <td>054085600_1658721365-0000486053.jpg</td>\n",
       "      <td>tag</td>\n",
       "    </tr>\n",
       "    <tr>\n",
       "      <th>3</th>\n",
       "      <td>Toyota_car/Alpard/056586100_1668037395-3301959...</td>\n",
       "      <td>056586100_1668037395-330195992_1661236267772_1...</td>\n",
       "      <td>tag</td>\n",
       "    </tr>\n",
       "    <tr>\n",
       "      <th>4</th>\n",
       "      <td>Toyota_car/Alpard/0735da1e-d110-4f65-b04e-0622...</td>\n",
       "      <td>0735da1e-d110-4f65-b04e-06225a542d28.jpeg</td>\n",
       "      <td>tag</td>\n",
       "    </tr>\n",
       "  </tbody>\n",
       "</table>\n",
       "</div>"
      ],
      "text/plain": [
       "                                                path  \\\n",
       "0  Toyota_car/Alpard/00b14b9ba43946d98735dc653dc8...   \n",
       "1  Toyota_car/Alpard/018353700_1663691568-IMG_202...   \n",
       "2  Toyota_car/Alpard/054085600_1658721365-0000486...   \n",
       "3  Toyota_car/Alpard/056586100_1668037395-3301959...   \n",
       "4  Toyota_car/Alpard/0735da1e-d110-4f65-b04e-0622...   \n",
       "\n",
       "                                           file_name  tag  \n",
       "0          00b14b9ba43946d98735dc653dc8c78d_1200.jpg  tag  \n",
       "1       018353700_1663691568-IMG_20220819_101826.jpg  tag  \n",
       "2                054085600_1658721365-0000486053.jpg  tag  \n",
       "3  056586100_1668037395-330195992_1661236267772_1...  tag  \n",
       "4          0735da1e-d110-4f65-b04e-06225a542d28.jpeg  tag  "
      ]
     },
     "execution_count": 11,
     "metadata": {},
     "output_type": "execute_result"
    }
   ],
   "source": [
    "df.head()"
   ]
  },
  {
   "cell_type": "code",
   "execution_count": 12,
   "id": "8cabd41f",
   "metadata": {},
   "outputs": [
    {
     "data": {
      "text/html": [
       "<div>\n",
       "<style scoped>\n",
       "    .dataframe tbody tr th:only-of-type {\n",
       "        vertical-align: middle;\n",
       "    }\n",
       "\n",
       "    .dataframe tbody tr th {\n",
       "        vertical-align: top;\n",
       "    }\n",
       "\n",
       "    .dataframe thead th {\n",
       "        text-align: right;\n",
       "    }\n",
       "</style>\n",
       "<table border=\"1\" class=\"dataframe\">\n",
       "  <thead>\n",
       "    <tr style=\"text-align: right;\">\n",
       "      <th></th>\n",
       "      <th>path</th>\n",
       "      <th>file_name</th>\n",
       "      <th>tag</th>\n",
       "    </tr>\n",
       "  </thead>\n",
       "  <tbody>\n",
       "    <tr>\n",
       "      <th>491</th>\n",
       "      <td>Toyota_car/Yaris/yaris-20-tahun-f174.jpg</td>\n",
       "      <td>yaris-20-tahun-f174.jpg</td>\n",
       "      <td>tag</td>\n",
       "    </tr>\n",
       "    <tr>\n",
       "      <th>492</th>\n",
       "      <td>Toyota_car/Yaris/yaris-exterior-right-front-th...</td>\n",
       "      <td>yaris-exterior-right-front-three-quarter.jpeg</td>\n",
       "      <td>tag</td>\n",
       "    </tr>\n",
       "    <tr>\n",
       "      <th>493</th>\n",
       "      <td>Toyota_car/Yaris/yaris-grs-1jpg-20211208111949...</td>\n",
       "      <td>yaris-grs-1jpg-20211208111949.jpg</td>\n",
       "      <td>tag</td>\n",
       "    </tr>\n",
       "    <tr>\n",
       "      <th>494</th>\n",
       "      <td>Toyota_car/Yaris/yaris_gs.jpg</td>\n",
       "      <td>yaris_gs.jpg</td>\n",
       "      <td>tag</td>\n",
       "    </tr>\n",
       "    <tr>\n",
       "      <th>495</th>\n",
       "      <td>Toyota_car/Yaris/yaris_trd.jpg</td>\n",
       "      <td>yaris_trd.jpg</td>\n",
       "      <td>tag</td>\n",
       "    </tr>\n",
       "  </tbody>\n",
       "</table>\n",
       "</div>"
      ],
      "text/plain": [
       "                                                  path  \\\n",
       "491           Toyota_car/Yaris/yaris-20-tahun-f174.jpg   \n",
       "492  Toyota_car/Yaris/yaris-exterior-right-front-th...   \n",
       "493  Toyota_car/Yaris/yaris-grs-1jpg-20211208111949...   \n",
       "494                      Toyota_car/Yaris/yaris_gs.jpg   \n",
       "495                     Toyota_car/Yaris/yaris_trd.jpg   \n",
       "\n",
       "                                         file_name  tag  \n",
       "491                        yaris-20-tahun-f174.jpg  tag  \n",
       "492  yaris-exterior-right-front-three-quarter.jpeg  tag  \n",
       "493              yaris-grs-1jpg-20211208111949.jpg  tag  \n",
       "494                                   yaris_gs.jpg  tag  \n",
       "495                                  yaris_trd.jpg  tag  "
      ]
     },
     "execution_count": 12,
     "metadata": {},
     "output_type": "execute_result"
    }
   ],
   "source": [
    "df.tail()"
   ]
  },
  {
   "cell_type": "markdown",
   "id": "965faab2",
   "metadata": {},
   "source": [
    "# train data"
   ]
  },
  {
   "cell_type": "code",
   "execution_count": 13,
   "id": "9b3bbfc1",
   "metadata": {},
   "outputs": [],
   "source": [
    "X = df['path']\n",
    "y = df['tag']"
   ]
  },
  {
   "cell_type": "code",
   "execution_count": 31,
   "id": "8dd5622f",
   "metadata": {},
   "outputs": [],
   "source": [
    "# memisahkan split data antara train, test dan validation\n",
    "\n",
    "X_train, X_test, y_train, y_test = train_test_split(X, y, test_size=0.3, random_state=1)\n",
    "# kemudian:\n",
    "X_train, X_val, y_train, y_val = train_test_split(X_train, y_train, test_size=0.3, random_state=1)"
   ]
  },
  {
   "cell_type": "code",
   "execution_count": 34,
   "id": "4ffa026d",
   "metadata": {},
   "outputs": [],
   "source": [
    "df_tr = pd.DataFrame({'path': X_train, 'tag': y_train, 'set':'train'})\n",
    "\n",
    "df_te = pd.DataFrame({'path':X_test, 'tag':y_test, 'set':'test'})\n",
    "\n",
    "df_val = pd.DataFrame({'path': X_val, 'tag': y_val, 'set': 'validation'})"
   ]
  },
  {
   "cell_type": "code",
   "execution_count": 35,
   "id": "3813358c",
   "metadata": {},
   "outputs": [
    {
     "name": "stdout",
     "output_type": "stream",
     "text": [
      "train_size 242\n",
      "test_size 149\n",
      "val size 496\n"
     ]
    }
   ],
   "source": [
    "print('train_size', len(df_tr))\n",
    "print('test_size', len(df_te))\n",
    "print('val size', len(df))"
   ]
  },
  {
   "cell_type": "code",
   "execution_count": 37,
   "id": "ce5a32e4",
   "metadata": {},
   "outputs": [
    {
     "name": "stdout",
     "output_type": "stream",
     "text": [
      "=====================================================\n",
      "\n",
      "set         tag\n",
      "test        tag    149\n",
      "train       tag    242\n",
      "validation  tag    105\n",
      "dtype: int64 \n",
      "\n",
      "========================================================\n",
      "\n"
     ]
    },
    {
     "name": "stderr",
     "output_type": "stream",
     "text": [
      "C:\\Users\\Administrator\\AppData\\Local\\Temp\\ipykernel_5896\\2411525728.py:1: FutureWarning: The frame.append method is deprecated and will be removed from pandas in a future version. Use pandas.concat instead.\n",
      "  df_all = df_tr.append([df_te, df_val]).reset_index(drop=1)\n"
     ]
    },
    {
     "data": {
      "text/html": [
       "<div>\n",
       "<style scoped>\n",
       "    .dataframe tbody tr th:only-of-type {\n",
       "        vertical-align: middle;\n",
       "    }\n",
       "\n",
       "    .dataframe tbody tr th {\n",
       "        vertical-align: top;\n",
       "    }\n",
       "\n",
       "    .dataframe thead th {\n",
       "        text-align: right;\n",
       "    }\n",
       "</style>\n",
       "<table border=\"1\" class=\"dataframe\">\n",
       "  <thead>\n",
       "    <tr style=\"text-align: right;\">\n",
       "      <th></th>\n",
       "      <th>path</th>\n",
       "      <th>tag</th>\n",
       "      <th>set</th>\n",
       "    </tr>\n",
       "  </thead>\n",
       "  <tbody>\n",
       "    <tr>\n",
       "      <th>85</th>\n",
       "      <td>Toyota_car/Alpard/Untuk-TOYOTA-Alphard-Vellfir...</td>\n",
       "      <td>tag</td>\n",
       "      <td>train</td>\n",
       "    </tr>\n",
       "    <tr>\n",
       "      <th>219</th>\n",
       "      <td>Toyota_car/Rush/Toyota-Rush-1637562956.jpg</td>\n",
       "      <td>tag</td>\n",
       "      <td>train</td>\n",
       "    </tr>\n",
       "    <tr>\n",
       "      <th>279</th>\n",
       "      <td>Toyota_car/Kijang_Innova/7d817d5e-9115-4d90-b9...</td>\n",
       "      <td>tag</td>\n",
       "      <td>test</td>\n",
       "    </tr>\n",
       "  </tbody>\n",
       "</table>\n",
       "</div>"
      ],
      "text/plain": [
       "                                                  path  tag    set\n",
       "85   Toyota_car/Alpard/Untuk-TOYOTA-Alphard-Vellfir...  tag  train\n",
       "219         Toyota_car/Rush/Toyota-Rush-1637562956.jpg  tag  train\n",
       "279  Toyota_car/Kijang_Innova/7d817d5e-9115-4d90-b9...  tag   test"
      ]
     },
     "execution_count": 37,
     "metadata": {},
     "output_type": "execute_result"
    }
   ],
   "source": [
    "df_all = df_tr.append([df_te, df_val]).reset_index(drop=1)\n",
    "\n",
    "print('=====================================================\\n')\n",
    "print(df_all.groupby(['set', 'tag']).size(), '\\n')\n",
    "\n",
    "print('========================================================\\n')\n",
    "\n",
    "df_all.sample(3)"
   ]
  },
  {
   "cell_type": "markdown",
   "id": "ec6e069d",
   "metadata": {},
   "source": [
    "# merapikan ke folder masing masing "
   ]
  },
  {
   "cell_type": "code",
   "execution_count": 39,
   "id": "e58f23ba",
   "metadata": {},
   "outputs": [],
   "source": [
    "datasource_path = \"Toyota_car/\"\n",
    "dataset_path = \"dataset/\""
   ]
  },
  {
   "cell_type": "code",
   "execution_count": 40,
   "id": "45e92a69",
   "metadata": {},
   "outputs": [
    {
     "data": {
      "application/vnd.jupyter.widget-view+json": {
       "model_id": "489fb7d4a20f45ac8d682e8c290ce4cb",
       "version_major": 2,
       "version_minor": 0
      },
      "text/plain": [
       "0it [00:00, ?it/s]"
      ]
     },
     "metadata": {},
     "output_type": "display_data"
    }
   ],
   "source": [
    "for index, row in tq(df_all.iterrows(), ):\n",
    "    \n",
    "    #detect filepath\n",
    "    file_path = row['path']\n",
    "    if os.path.exists(file_path) == False:\n",
    "            file_path = os.path.join(datasource_path,row['tag'],row['image'].split('.')[0])            \n",
    "    \n",
    "    #make folder destination dirs\n",
    "    if os.path.exists(os.path.join(dataset_path,row['set'],row['tag'])) == False:\n",
    "        os.makedirs(os.path.join(dataset_path,row['set'],row['tag']))\n",
    "    \n",
    "    #define file dest\n",
    "    destination_file_name = file_path.split('/')[-1]\n",
    "    file_dest = os.path.join(dataset_path,row['set'],row['tag'],destination_file_name)\n",
    "    \n",
    "    #copy file from source to dest\n",
    "    if os.path.exists(file_dest) == False:\n",
    "        shutil.copy2(file_path,file_dest)"
   ]
  },
  {
   "cell_type": "code",
   "execution_count": 47,
   "id": "2c97cf03",
   "metadata": {},
   "outputs": [],
   "source": [
    "# Define Input Parameters\n",
    "dim = (160, 160)\n",
    "# dim = (456, 456)\n",
    "channel = (3, )\n",
    "input_shape = dim + channel\n",
    "\n",
    "#batch size\n",
    "batch_size = 16\n",
    "\n",
    "#Epoch\n",
    "epoch = 10"
   ]
  },
  {
   "cell_type": "code",
   "execution_count": 45,
   "id": "44082f84",
   "metadata": {},
   "outputs": [],
   "source": [
    "train_datagen = ImageDataGenerator(rescale=1. / 255,\n",
    "                                   shear_range=0.2,\n",
    "                                   zoom_range=0.2,\n",
    "                                   horizontal_flip=True)\n",
    "\n",
    "val_datagen = ImageDataGenerator(rescale=1. / 255,\n",
    "                                 shear_range=0.2,\n",
    "                                 zoom_range=0.2,\n",
    "                                 horizontal_flip=True)\n",
    "\n",
    "test_datagen = ImageDataGenerator(rescale=1. / 255,\n",
    "                                  shear_range=0.2,\n",
    "                                  zoom_range=0.2,\n",
    "                                  horizontal_flip=True)"
   ]
  },
  {
   "cell_type": "code",
   "execution_count": 50,
   "id": "efef96b7",
   "metadata": {},
   "outputs": [
    {
     "name": "stdout",
     "output_type": "stream",
     "text": [
      "Found 705 images belonging to 6 classes.\n",
      "Found 580 images belonging to 6 classes.\n",
      "Found 619 images belonging to 6 classes.\n"
     ]
    }
   ],
   "source": [
    "train_generator = train_datagen.flow_from_directory('dataset/train/',\n",
    "                                                    target_size=dim,\n",
    "                                                    batch_size=batch_size,\n",
    "                                                    class_mode='categorical',\n",
    "                                                    shuffle=True)\n",
    "\n",
    "val_generator = val_datagen.flow_from_directory('dataset/validation/',\n",
    "                                                target_size=dim,\n",
    "                                                batch_size=batch_size,\n",
    "                                                class_mode='categorical',\n",
    "                                                shuffle=True)\n",
    "\n",
    "test_generator = test_datagen.flow_from_directory('dataset/test/',\n",
    "                                                  target_size=dim,\n",
    "                                                  batch_size=batch_size,\n",
    "                                                  class_mode='categorical',\n",
    "                                                  shuffle=True)\n",
    "\n",
    "num_class = test_generator.num_classes\n",
    "labels = train_generator.class_indices.keys()"
   ]
  },
  {
   "cell_type": "code",
   "execution_count": 51,
   "id": "497b4258",
   "metadata": {},
   "outputs": [
    {
     "name": "stdout",
     "output_type": "stream",
     "text": [
      "dict_keys(['Alpard', 'Avanza', 'Kijang_Innova', 'Rush', 'Yaris', 'tag'])\n"
     ]
    }
   ],
   "source": [
    "print(labels)"
   ]
  },
  {
   "cell_type": "code",
   "execution_count": 67,
   "id": "174dcc1b",
   "metadata": {},
   "outputs": [],
   "source": [
    "def tf_data_generator(generator, input_shape):\n",
    "    num_class = generator.num_classes\n",
    "    tf_generator = tf.data.Dataset.from_generator(\n",
    "        lambda: generator,\n",
    "        output_types=(tf.float32, tf.float32),\n",
    "        output_shapes=([None\n",
    "                        , input_shape[0]\n",
    "                        , input_shape[1]\n",
    "                        , input_shape[2]]\n",
    "                       ,[None, num_class])\n",
    "    )\n",
    "    return tf_generator"
   ]
  },
  {
   "cell_type": "code",
   "execution_count": 68,
   "id": "e2892cb5",
   "metadata": {},
   "outputs": [],
   "source": [
    "train_data = tf_data_generator(train_generator, input_shape)\n",
    "test_data = tf_data_generator(test_generator, input_shape)\n",
    "val_data = tf_data_generator(val_generator, input_shape)"
   ]
  },
  {
   "cell_type": "code",
   "execution_count": 58,
   "id": "e9b49b46",
   "metadata": {},
   "outputs": [
    {
     "name": "stdout",
     "output_type": "stream",
     "text": [
      "Compiling Model.......\n"
     ]
    }
   ],
   "source": [
    "model = Sequential()\n",
    "model.add(Conv2D(128, (3, 3), padding='same', input_shape=input_shape))\n",
    "\n",
    "model.add(Activation('relu'))\n",
    "model.add(Conv2D(32, (3, 3)))\n",
    "model.add(Activation('relu'))\n",
    "model.add(MaxPooling2D(pool_size=(2, 2)))\n",
    "model.add(Dropout(0.25))\n",
    "\n",
    "model.add(Conv2D(64, (3, 3), padding='same'))\n",
    "model.add(Activation('relu'))\n",
    "model.add(Conv2D(64, (3, 3)))\n",
    "model.add(Activation('relu'))\n",
    "model.add(MaxPooling2D(pool_size=(2, 2)))\n",
    "model.add(Dropout(0.25))\n",
    "\n",
    "model.add(Flatten())\n",
    "model.add(Dense(512))\n",
    "model.add(Activation('relu'))\n",
    "model.add(Dropout(0.5))\n",
    "model.add(Dense(num_class))\n",
    "model.add(Activation('softmax'))\n",
    "\n",
    "# Compile the model\n",
    "print('Compiling Model.......')\n",
    "model.compile(optimizer='adam',\n",
    "              loss='categorical_crossentropy',\n",
    "              metrics=['accuracy'])"
   ]
  },
  {
   "cell_type": "code",
   "execution_count": 59,
   "id": "f6d15ac5",
   "metadata": {},
   "outputs": [
    {
     "name": "stdout",
     "output_type": "stream",
     "text": [
      "Model: \"sequential_1\"\n",
      "_________________________________________________________________\n",
      " Layer (type)                Output Shape              Param #   \n",
      "=================================================================\n",
      " conv2d (Conv2D)             (None, 160, 160, 128)     3584      \n",
      "                                                                 \n",
      " activation (Activation)     (None, 160, 160, 128)     0         \n",
      "                                                                 \n",
      " conv2d_1 (Conv2D)           (None, 158, 158, 32)      36896     \n",
      "                                                                 \n",
      " activation_1 (Activation)   (None, 158, 158, 32)      0         \n",
      "                                                                 \n",
      " max_pooling2d (MaxPooling2D  (None, 79, 79, 32)       0         \n",
      " )                                                               \n",
      "                                                                 \n",
      " dropout (Dropout)           (None, 79, 79, 32)        0         \n",
      "                                                                 \n",
      " conv2d_2 (Conv2D)           (None, 79, 79, 64)        18496     \n",
      "                                                                 \n",
      " activation_2 (Activation)   (None, 79, 79, 64)        0         \n",
      "                                                                 \n",
      " conv2d_3 (Conv2D)           (None, 77, 77, 64)        36928     \n",
      "                                                                 \n",
      " activation_3 (Activation)   (None, 77, 77, 64)        0         \n",
      "                                                                 \n",
      " max_pooling2d_1 (MaxPooling  (None, 38, 38, 64)       0         \n",
      " 2D)                                                             \n",
      "                                                                 \n",
      " dropout_1 (Dropout)         (None, 38, 38, 64)        0         \n",
      "                                                                 \n",
      " flatten (Flatten)           (None, 92416)             0         \n",
      "                                                                 \n",
      " dense (Dense)               (None, 512)               47317504  \n",
      "                                                                 \n",
      " activation_4 (Activation)   (None, 512)               0         \n",
      "                                                                 \n",
      " dropout_2 (Dropout)         (None, 512)               0         \n",
      "                                                                 \n",
      " dense_1 (Dense)             (None, 6)                 3078      \n",
      "                                                                 \n",
      " activation_5 (Activation)   (None, 6)                 0         \n",
      "                                                                 \n",
      "=================================================================\n",
      "Total params: 47,416,486\n",
      "Trainable params: 47,416,486\n",
      "Non-trainable params: 0\n",
      "_________________________________________________________________\n"
     ]
    }
   ],
   "source": [
    "model.summary()"
   ]
  },
  {
   "cell_type": "code",
   "execution_count": 60,
   "id": "0b99d39e",
   "metadata": {},
   "outputs": [
    {
     "data": {
      "image/png": "[encoded data removed]",
      "text/plain": [
       "<IPython.core.display.Image object>"
      ]
     },
     "execution_count": 60,
     "metadata": {},
     "output_type": "execute_result"
    }
   ],
   "source": [
    "model_viz = tf.keras.utils.plot_model(model,\n",
    "                          to_file='model.png',\n",
    "                          show_shapes=True,\n",
    "                          show_layer_names=True,\n",
    "                          rankdir='TB',\n",
    "                          expand_nested=True,\n",
    "                          dpi=55)\n",
    "model_viz"
   ]
  },
  {
   "cell_type": "code",
   "execution_count": 61,
   "id": "286a616a",
   "metadata": {},
   "outputs": [],
   "source": [
    "EPOCH = 2"
   ]
  },
  {
   "cell_type": "code",
   "execution_count": 69,
   "id": "44966b24",
   "metadata": {},
   "outputs": [
    {
     "name": "stdout",
     "output_type": "stream",
     "text": [
      "Epoch 1/2\n",
      " 7/45 [===>..........................] - ETA: 10:37 - loss: 3.1138 - accuracy: 0.1339"
     ]
    },
    {
     "name": "stderr",
     "output_type": "stream",
     "text": [
      "C:\\Users\\Administrator\\anaconda3\\lib\\site-packages\\PIL\\Image.py:979: UserWarning: Palette images with Transparency expressed in bytes should be converted to RGBA images\n",
      "  warnings.warn(\n"
     ]
    },
    {
     "name": "stdout",
     "output_type": "stream",
     "text": [
      "45/45 [==============================] - 808s 18s/step - loss: 1.9598 - accuracy: 0.2965 - val_loss: 1.7983 - val_accuracy: 0.1741\n",
      "Epoch 2/2\n",
      "45/45 [==============================] - 824s 18s/step - loss: 1.7386 - accuracy: 0.3206 - val_loss: 1.8116 - val_accuracy: 0.1759\n"
     ]
    }
   ],
   "source": [
    "history = model.fit(x=train_data,\n",
    "        steps_per_epoch=len(train_generator),\n",
    "        epochs=EPOCH,\n",
    "        validation_data=val_data,\n",
    "        validation_steps=len(val_generator), \n",
    "        shuffle=True,\n",
    "        verbose = 1)"
   ]
  },
  {
   "cell_type": "code",
   "execution_count": 70,
   "id": "16e47930",
   "metadata": {},
   "outputs": [
    {
     "data": {
      "image/png": "[encoded data removed]",
      "text/plain": [
       "<Figure size 432x288 with 1 Axes>"
      ]
     },
     "metadata": {
      "needs_background": "light"
     },
     "output_type": "display_data"
    }
   ],
   "source": [
    "# Plot history: MAE\n",
    "plt.plot(history.history['loss'], label='Training Loss')\n",
    "plt.plot(history.history['val_loss'], label='Validation Loss')\n",
    "plt.title('Training and Validation Loss')\n",
    "plt.ylabel('value')\n",
    "plt.xlabel('No. epoch')\n",
    "plt.legend(loc=\"upper left\")\n",
    "plt.show()"
   ]
  },
  {
   "cell_type": "code",
   "execution_count": 71,
   "id": "539eb409",
   "metadata": {},
   "outputs": [
    {
     "data": {
      "image/png": "[encoded data removed]",
      "text/plain": [
       "<Figure size 432x288 with 1 Axes>"
      ]
     },
     "metadata": {
      "needs_background": "light"
     },
     "output_type": "display_data"
    }
   ],
   "source": [
    "# Plot history: MSE\n",
    "plt.plot(history.history['accuracy'], label='Training Accuracy')\n",
    "plt.plot(history.history['val_accuracy'], label='Validation Accuracy')\n",
    "plt.title('Training and Validation Accuracy')\n",
    "plt.ylabel('value')\n",
    "plt.xlabel('No. epoch')\n",
    "plt.legend(loc=\"upper left\")\n",
    "plt.show()"
   ]
  },
  {
   "cell_type": "code",
   "execution_count": 72,
   "id": "f9a657d5",
   "metadata": {},
   "outputs": [
    {
     "name": "stdout",
     "output_type": "stream",
     "text": [
      "Accuracy on training data: 0.3248 \n",
      "Loss on training data: 1.7265 \n",
      "\n",
      "Accuracy on test data: 0.2262 \n",
      "Loss on test data: 1.7839 \n",
      "\n"
     ]
    }
   ],
   "source": [
    "loss, acc = model.evaluate(train_data, steps=len(train_generator), verbose=0)\n",
    "print('Accuracy on training data: {:.4f} \\nLoss on training data: {:.4f}'.format(acc,loss),'\\n')\n",
    " \n",
    "loss, acc = model.evaluate(test_data, steps=len(test_generator), verbose=0)\n",
    "print('Accuracy on test data: {:.4f} \\nLoss on test data: {:.4f}'.format(acc,loss),'\\n')    "
   ]
  },
  {
   "cell_type": "code",
   "execution_count": null,
   "id": "83a6899d",
   "metadata": {},
   "outputs": [],
   "source": []
  }
 ],
 "metadata": {
  "kernelspec": {
   "display_name": "Python 3",
   "language": "python",
   "name": "python3"
  },
  "language_info": {
   "codemirror_mode": {
    "name": "ipython",
    "version": 3
   },
   "file_extension": ".py",
   "mimetype": "text/x-python",
   "name": "python",
   "nbconvert_exporter": "python",
   "pygments_lexer": "ipython3",
   "version": "3.10.7 (tags/v3.10.7:6cc6b13, Sep  5 2022, 14:08:36) [MSC v.1933 64 bit (AMD64)]"
  },
  "toc": {
   "base_numbering": 1,
   "nav_menu": {},
   "number_sections": false,
   "sideBar": true,
   "skip_h1_title": false,
   "title_cell": "Table of Contents",
   "title_sidebar": "Contents",
   "toc_cell": false,
   "toc_position": {},
   "toc_section_display": true,
   "toc_window_display": false
  },
  "vscode": {
   "interpreter": {
    "hash": "8c3d4d9970fc5c09c50d9318a9c7fbf4d0159e4b28833276f5678ee22bded273"
   }
  }
 },
 "nbformat": 4,
 "nbformat_minor": 5
}
